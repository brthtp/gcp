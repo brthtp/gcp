{
 "cells": [
  {
   "cell_type": "code",
   "execution_count": 1,
   "id": "9ead23e5",
   "metadata": {},
   "outputs": [
    {
     "name": "stdout",
     "output_type": "stream",
     "text": [
      "LIVERPOOL\n"
     ]
    }
   ],
   "source": [
    "print(\"LIVERPOOL\")"
   ]
  },
  {
   "cell_type": "code",
   "execution_count": 2,
   "id": "769434f7",
   "metadata": {},
   "outputs": [
    {
     "name": "stdout",
     "output_type": "stream",
     "text": [
      "<class 'int'>\n"
     ]
    }
   ],
   "source": [
    "a = 10\n",
    "print(type(a))"
   ]
  },
  {
   "cell_type": "code",
   "execution_count": 3,
   "id": "b58f4821",
   "metadata": {},
   "outputs": [
    {
     "name": "stdout",
     "output_type": "stream",
     "text": [
      "hey there\n"
     ]
    }
   ],
   "source": [
    "str1 = \"hey \"\n",
    "str2 = \"there\"\n",
    "print(str1 + str2)"
   ]
  },
  {
   "cell_type": "code",
   "execution_count": 4,
   "id": "bdd9b378",
   "metadata": {},
   "outputs": [
    {
     "data": {
      "text/plain": [
       "str"
      ]
     },
     "execution_count": 4,
     "metadata": {},
     "output_type": "execute_result"
    }
   ],
   "source": [
    "type(str1 + str2)"
   ]
  },
  {
   "cell_type": "code",
   "execution_count": 5,
   "id": "b6e26134",
   "metadata": {},
   "outputs": [
    {
     "data": {
      "text/plain": [
       "tuple"
      ]
     },
     "execution_count": 5,
     "metadata": {},
     "output_type": "execute_result"
    }
   ],
   "source": [
    "type((10, 20, 230))"
   ]
  },
  {
   "cell_type": "code",
   "execution_count": 6,
   "id": "4fab8060",
   "metadata": {},
   "outputs": [
    {
     "data": {
      "text/plain": [
       "list"
      ]
     },
     "execution_count": 6,
     "metadata": {},
     "output_type": "execute_result"
    }
   ],
   "source": [
    "type([10, 20, 200])"
   ]
  },
  {
   "cell_type": "code",
   "execution_count": 15,
   "id": "11301708",
   "metadata": {},
   "outputs": [
    {
     "name": "stdout",
     "output_type": "stream",
     "text": [
      "30 10\n"
     ]
    }
   ],
   "source": [
    "#swapping of two numbers\n",
    "\n",
    "def swap(a, b):\n",
    "    a, b = b, a\n",
    "    return a, b\n",
    "\n",
    "a = 10\n",
    "b = 30\n",
    "a, b = swap(a, b)\n",
    "print(a, b)"
   ]
  },
  {
   "cell_type": "code",
   "execution_count": 16,
   "id": "17e38600",
   "metadata": {},
   "outputs": [
    {
     "name": "stdout",
     "output_type": "stream",
     "text": [
      "3\n",
      "NOTFOUND\n"
     ]
    }
   ],
   "source": [
    "#linear search\n",
    "def search(array, item):\n",
    "    for i in range(len(array)):\n",
    "        if array[i] == item:\n",
    "            return i\n",
    "    return \"NOTFOUND\"\n",
    "\n",
    "a = [10, 20, 30, 40, 50]\n",
    "print(search(a, 40))\n",
    "print(search(a, 60))\n"
   ]
  },
  {
   "cell_type": "code",
   "execution_count": 30,
   "id": "86e9a220",
   "metadata": {},
   "outputs": [
    {
     "name": "stdout",
     "output_type": "stream",
     "text": [
      "6\n"
     ]
    }
   ],
   "source": [
    "#binary search\n",
    "\n",
    "def binarySearch(a, left, right, item):\n",
    "    while left <= right:\n",
    "        mid = (left + right) // 2\n",
    "        if(a[mid] == item):\n",
    "            return mid\n",
    "        elif a[mid] > item:\n",
    "            right = mid - 1\n",
    "        else:\n",
    "            left = mid + 1\n",
    "    return -1\n",
    "\n",
    "\n",
    "a = [1, 2, 3, 4, 5, 6, 7, 8, 9]\n",
    "res = binarySearch(a, 0, len(a) - 1, 7)\n",
    "print(res)"
   ]
  },
  {
   "cell_type": "code",
   "execution_count": 28,
   "id": "f0b48923",
   "metadata": {},
   "outputs": [
    {
     "name": "stdout",
     "output_type": "stream",
     "text": [
      "[2, 3, 4, 21, 43, 71, 92]\n"
     ]
    }
   ],
   "source": [
    "def bubbleSort(a):\n",
    "    for i in range(len(a)):\n",
    "        for j in range(0, len(a) - i - 1):\n",
    "            if a[j] > a[j + 1]:\n",
    "                a[j + 1], a[j] = a[j], a[j + 1]\n",
    "\n",
    "a = [92, 71, 2, 43, 3, 21, 4]\n",
    "bubbleSort(a)\n",
    "print(a)"
   ]
  },
  {
   "cell_type": "code",
   "execution_count": 2,
   "id": "dc9203a5",
   "metadata": {},
   "outputs": [
    {
     "name": "stdout",
     "output_type": "stream",
     "text": [
      "[1, 4, 5, 5, 10, 21, 23, 88]\n"
     ]
    }
   ],
   "source": [
    "def selectionSort(a):\n",
    "    n = len(a)\n",
    "    for i in range(n):\n",
    "        minIndex = i\n",
    "        for j in range(i + 1, n):\n",
    "            if a[minIndex] > a[j]:\n",
    "                minIndex = j\n",
    "        a[minIndex], a[i] = a[i], a[minIndex]\n",
    "\n",
    "a = [10, 4, 21, 1, 5, 23, 5, 88]\n",
    "selectionSort(a)\n",
    "print(a)"
   ]
  },
  {
   "cell_type": "code",
   "execution_count": 32,
   "id": "ccd2f627",
   "metadata": {},
   "outputs": [
    {
     "name": "stdout",
     "output_type": "stream",
     "text": [
      "55\n"
     ]
    }
   ],
   "source": [
    "def fib(n):\n",
    "    if n == 0 or n == 1:\n",
    "        return n\n",
    "    return fib(n - 1) + fib(n - 2)\n",
    "\n",
    "print(fib(10))"
   ]
  },
  {
   "cell_type": "code",
   "execution_count": 34,
   "id": "a24c0d63",
   "metadata": {},
   "outputs": [
    {
     "name": "stdout",
     "output_type": "stream",
     "text": [
      "33\n"
     ]
    }
   ],
   "source": [
    "a = [1, 32, 54, 6 ,33, 12, 322]\n",
    "k = 3\n",
    "sorted(a)\n",
    "print(a[len(a) - k])"
   ]
  },
  {
   "cell_type": "code",
   "execution_count": 37,
   "id": "e6c9e4b1",
   "metadata": {},
   "outputs": [
    {
     "name": "stdout",
     "output_type": "stream",
     "text": [
      "[33, 1, 32, 54, 6, 12, 322]\n"
     ]
    }
   ],
   "source": [
    "a = [1, 32, 54, 6 ,33, 12, 322]\n",
    "b = []\n",
    "b.append(a[4])\n",
    "a.remove(a[4])\n",
    "for i in a:\n",
    "    b.append(i)\n",
    "print(b)"
   ]
  },
  {
   "cell_type": "code",
   "execution_count": 1,
   "id": "4257d688",
   "metadata": {},
   "outputs": [
    {
     "name": "stdout",
     "output_type": "stream",
     "text": [
      "     January 0\n",
      "Mo Tu We Th Fr Sa Su\n",
      "                1  2\n",
      " 3  4  5  6  7  8  9\n",
      "10 11 12 13 14 15 16\n",
      "17 18 19 20 21 22 23\n",
      "24 25 26 27 28 29 30\n",
      "31\n",
      "\n"
     ]
    }
   ],
   "source": [
    "import calendar\n",
    "year = 0\n",
    "month = 1\n",
    "print(calendar.month(year, month))"
   ]
  },
  {
   "cell_type": "code",
   "execution_count": 3,
   "id": "5bf6f8e4",
   "metadata": {},
   "outputs": [
    {
     "name": "stdout",
     "output_type": "stream",
     "text": [
      "{89, 'pratheek', 'rajesh', 12}\n"
     ]
    }
   ],
   "source": [
    "a = [\"rajesh\", \"pratheek\", 12, 12, \"pratheek\", 89]\n",
    "b = set()\n",
    "for i in a:\n",
    "    b.add(i)\n",
    "print(b)"
   ]
  },
  {
   "cell_type": "code",
   "execution_count": null,
   "id": "34479cce",
   "metadata": {},
   "outputs": [],
   "source": []
  }
 ],
 "metadata": {
  "kernelspec": {
   "display_name": "Python 3 (ipykernel)",
   "language": "python",
   "name": "python3"
  },
  "language_info": {
   "codemirror_mode": {
    "name": "ipython",
    "version": 3
   },
   "file_extension": ".py",
   "mimetype": "text/x-python",
   "name": "python",
   "nbconvert_exporter": "python",
   "pygments_lexer": "ipython3",
   "version": "3.7.11"
  }
 },
 "nbformat": 4,
 "nbformat_minor": 5
}
